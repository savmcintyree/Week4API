{
 "cells": [
  {
   "cell_type": "markdown",
   "id": "7196054f",
   "metadata": {},
   "source": [
    "# Working with APIs"
   ]
  },
  {
   "cell_type": "markdown",
   "id": "0547b71e",
   "metadata": {},
   "source": [
    "API stands for Application programming interface<br>\n",
    "APIs are a way for applications to talk to eachother<br>\n",
    "In python we use the requests package to handle the connection<br>\n",
    "<small><strong>Note: It is requests with an s not request(this is a different package)</strong></small><br>\n",
    "Most API's communicate with data in the form of JSON<br>\n",
    "JSON stands for JavaScript Object Notation"
   ]
  },
  {
   "cell_type": "code",
   "execution_count": 1,
   "id": "4db9d154",
   "metadata": {},
   "outputs": [],
   "source": [
    "#import the packages we need:\n",
    "import requests"
   ]
  },
  {
   "cell_type": "markdown",
   "id": "e8c2ce51",
   "metadata": {},
   "source": [
    "We will be connecting to the Ergast F1 Racer API today:\n",
    "http://ergast.com/mrd/\n",
    "\n",
    "to view JSON data nicely in the Chrome browser install the extension JSONview"
   ]
  },
  {
   "cell_type": "code",
   "execution_count": 7,
   "id": "52c440c6",
   "metadata": {},
   "outputs": [],
   "source": [
    "# The API we're accessing\n",
    "# Make sure to attach extension .json at the end of url\n",
    "url = 'http://ergast.com/api/f1/2008/5/driverStandings.json'"
   ]
  },
  {
   "cell_type": "code",
   "execution_count": 8,
   "id": "f60c1b4a",
   "metadata": {},
   "outputs": [
    {
     "data": {
      "text/plain": [
       "<Response [200]>"
      ]
     },
     "execution_count": 8,
     "metadata": {},
     "output_type": "execute_result"
    }
   ],
   "source": [
    "# using the request package to access data from api/url\n",
    "response = requests.get(url)"
   ]
  },
  {
   "cell_type": "code",
   "execution_count": 12,
   "id": "c6d1fdaf",
   "metadata": {},
   "outputs": [
    {
     "name": "stdout",
     "output_type": "stream",
     "text": [
      "True\n"
     ]
    }
   ],
   "source": [
    "#check and make sure we got a successful response from the API\n",
    "#response.status_code: 200 = Success, 400 = Failed\n",
    "#response.ok: True = Success, False = Failed\n",
    "response.status_code\n",
    "response.ok"
   ]
  },
  {
   "cell_type": "code",
   "execution_count": 22,
   "id": "ed4d3256",
   "metadata": {},
   "outputs": [],
   "source": [
    "#view the response as a JSON\n",
    "# response.json()"
   ]
  },
  {
   "cell_type": "code",
   "execution_count": 23,
   "id": "92e6cd2c",
   "metadata": {},
   "outputs": [
    {
     "data": {
      "text/plain": [
       "dict"
      ]
     },
     "execution_count": 23,
     "metadata": {},
     "output_type": "execute_result"
    }
   ],
   "source": [
    "# .json() is a dictionary type\n",
    "type(response.json())"
   ]
  },
  {
   "cell_type": "code",
   "execution_count": 26,
   "id": "f074dfcf",
   "metadata": {},
   "outputs": [],
   "source": [
    "# We only want the Driver Standings\n",
    "driver_standings_data = response.json()['MRData']['StandingsTable']['StandingsLists'][0]['DriverStandings']\n",
    "# driver_standings_data"
   ]
  },
  {
   "cell_type": "code",
   "execution_count": 34,
   "id": "be46a950",
   "metadata": {},
   "outputs": [],
   "source": [
    "# Use a for loop to display all driver full names\n",
    "driver_standings_data[0]\n",
    "for driver in driver_standings_data:\n",
    "    print(driver['Driver']['givenName'], driver['Driver']['familyName'])"
   ]
  },
  {
   "cell_type": "code",
   "execution_count": 37,
   "id": "3740c752",
   "metadata": {},
   "outputs": [
    {
     "name": "stdout",
     "output_type": "stream",
     "text": [
      "---------- The F1 Racing Stats for the Year 2008 ----------\n"
     ]
    }
   ],
   "source": [
    "# Create a function getting certain driver info (givenName, familyName, dateOfBirth, wins, team)\n",
    "def get_driver_info(data):\n",
    "    new_driver_data = []\n",
    "    for driver in data:\n",
    "        driver_dict = {}\n",
    "        full_name = driver['Driver']['givenName'] + ' ' + driver['Driver']['familyName']\n",
    "        driver_key = full_name\n",
    "        driver_dict[driver_key] = {\n",
    "            'date_of_birth': driver['Driver']['dateOfBirth'],\n",
    "            'number_of_wins': driver['wins'],\n",
    "            'team': driver['Constructors'][0]['name']\n",
    "        }\n",
    "        new_driver_data.append(driver_dict)\n",
    "    return new_driver_data\n",
    "\n",
    "print('---------- The F1 Racing Stats for the Year 2008 ----------')\n",
    "# get_driver_info(driver_standings_data)"
   ]
  },
  {
   "cell_type": "code",
   "execution_count": 39,
   "id": "c0a568ef",
   "metadata": {},
   "outputs": [],
   "source": [
    "#Making a more flexible function to handle different years and rounds\n",
    "def get_driver_info_year_round(year, rnd):\n",
    "    url = f'http://ergast.com/api/f1/{year}/{rnd}/driverStandings.json'\n",
    "    response = requests.get(url)\n",
    "    if response.ok:\n",
    "        data = response.json()['MRData']['StandingsTable']['StandingsLists'][0]['DriverStandings']\n",
    "        return get_driver_info(data)\n",
    "    else:\n",
    "        return 'That year or round is invalid.'\n",
    "\n",
    "# get_driver_info_year_round(2020, 5)"
   ]
  },
  {
   "cell_type": "markdown",
   "id": "6d546014",
   "metadata": {},
   "source": [
    "# <strong>Homework</strong>\n",
    "check out this Pokemon API https://pokeapi.co/\n",
    "Use the requests package to connect to this API and get and store data for 5 different pokemon.\n",
    "Get the pokemons: name, atleast one ability's name, base_experience, and the URL for its sprite (an image that shows up on screen) for the 'front_shiny', attack base_stat, hp base_stat, defense base_stat"
   ]
  },
  {
   "cell_type": "code",
   "execution_count": 16,
   "id": "5a9081e3",
   "metadata": {},
   "outputs": [
    {
     "data": {
      "text/plain": [
       "[{'ditto': {'Ability': 'limber',\n",
       "   'Base_experience': 101,\n",
       "   'Sprite': 'https://raw.githubusercontent.com/PokeAPI/sprites/master/sprites/pokemon/shiny/132.png',\n",
       "   'Attack base_stat': 48,\n",
       "   'hp base_stat': 48,\n",
       "   'Defense base_stat': 48}},\n",
       " {'pikachu': {'Ability': 'static',\n",
       "   'Base_experience': 112,\n",
       "   'Sprite': 'https://raw.githubusercontent.com/PokeAPI/sprites/master/sprites/pokemon/shiny/25.png',\n",
       "   'Attack base_stat': 55,\n",
       "   'hp base_stat': 35,\n",
       "   'Defense base_stat': 40}},\n",
       " {'snorlax': {'Ability': 'immunity',\n",
       "   'Base_experience': 189,\n",
       "   'Sprite': 'https://raw.githubusercontent.com/PokeAPI/sprites/master/sprites/pokemon/shiny/143.png',\n",
       "   'Attack base_stat': 110,\n",
       "   'hp base_stat': 160,\n",
       "   'Defense base_stat': 65}},\n",
       " {'charmeleon': {'Ability': 'blaze',\n",
       "   'Base_experience': 142,\n",
       "   'Sprite': 'https://raw.githubusercontent.com/PokeAPI/sprites/master/sprites/pokemon/shiny/5.png',\n",
       "   'Attack base_stat': 64,\n",
       "   'hp base_stat': 58,\n",
       "   'Defense base_stat': 58}},\n",
       " {'wartortle': {'Ability': 'torrent',\n",
       "   'Base_experience': 142,\n",
       "   'Sprite': 'https://raw.githubusercontent.com/PokeAPI/sprites/master/sprites/pokemon/shiny/8.png',\n",
       "   'Attack base_stat': 63,\n",
       "   'hp base_stat': 59,\n",
       "   'Defense base_stat': 80}}]"
      ]
     },
     "execution_count": 16,
     "metadata": {},
     "output_type": "execute_result"
    }
   ],
   "source": [
    "url1 = 'https://pokeapi.co/api/v2/pokemon/ditto'\n",
    "url2 = 'https://pokeapi.co/api/v2/pokemon/pikachu'\n",
    "url3 = 'https://pokeapi.co/api/v2/pokemon/snorlax'\n",
    "url4 = ' https://pokeapi.co/api/v2/pokemon/charmeleon'\n",
    "url5 = 'https://pokeapi.co/api/v2/pokemon/wartortle'\n",
    "\n",
    "ditto = requests.get(url1)\n",
    "pikachu = requests.get(url2)\n",
    "snorlax = requests.get(url3)\n",
    "charmeleon = requests.get(url4)\n",
    "wartortle = requests.get(url5)\n",
    "\n",
    "working_dict = {\n",
    "    'ditto' : ditto.json(),\n",
    "    'pikachu' : pikachu.json(),\n",
    "    'snorlax' : snorlax.json(),\n",
    "    'charmeleon' : charmeleon.json(),\n",
    "    'wartortle' : wartortle.json()\n",
    "}\n",
    "\n",
    "def pokemon_attributes(your_dict):\n",
    "    to_display_list = []\n",
    "    for value in your_dict.values():\n",
    "        pokemon_dict = {}\n",
    "        pokemon_name = value['forms'][0]['name']\n",
    "        pokemon_dict[pokemon_name] = {\n",
    "            'Ability' : value['abilities'][0]['ability']['name'],\n",
    "            'Base_experience' : value['base_experience'],\n",
    "            'Sprite' : value['sprites']['front_shiny'],\n",
    "            'Attack base_stat' : value['stats'][1]['base_stat'],\n",
    "            'hp base_stat' : value['stats'][0]['base_stat'],\n",
    "            'Defense base_stat': value['stats'][2]['base_stat']\n",
    "        }\n",
    "        to_display_list.append(pokemon_dict)\n",
    "    return to_display_list\n",
    "\n",
    "pokemon_attributes(working_dict)\n"
   ]
  }
 ],
 "metadata": {
  "kernelspec": {
   "display_name": "Python 3",
   "language": "python",
   "name": "python3"
  },
  "language_info": {
   "codemirror_mode": {
    "name": "ipython",
    "version": 3
   },
   "file_extension": ".py",
   "mimetype": "text/x-python",
   "name": "python",
   "nbconvert_exporter": "python",
   "pygments_lexer": "ipython3",
   "version": "3.9.13"
  },
  "vscode": {
   "interpreter": {
    "hash": "07af3257c2096db644a3a0a671f7ee16834234c368370385a1d95a11c638dfbb"
   }
  }
 },
 "nbformat": 4,
 "nbformat_minor": 5
}
